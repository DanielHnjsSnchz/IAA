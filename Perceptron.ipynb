{
  "nbformat": 4,
  "nbformat_minor": 0,
  "metadata": {
    "colab": {
      "provenance": [],
      "include_colab_link": true
    },
    "kernelspec": {
      "name": "python3",
      "display_name": "Python 3"
    },
    "language_info": {
      "name": "python"
    }
  },
  "cells": [
    {
      "cell_type": "markdown",
      "metadata": {
        "id": "view-in-github",
        "colab_type": "text"
      },
      "source": [
        "<a href=\"https://colab.research.google.com/github/DanielHnjsSnchz/IAA/blob/main/Perceptron.ipynb\" target=\"_parent\"><img src=\"https://colab.research.google.com/assets/colab-badge.svg\" alt=\"Open In Colab\"/></a>"
      ]
    },
    {
      "cell_type": "markdown",
      "source": [
        " **Ejercicio 1.- Codifica una función que aplique el algoritmo de aprendizaje del perceptrón, siguiendo las directrices que se explicaron en clase.**\n"
      ],
      "metadata": {
        "id": "et3Hg1E9eRsY"
      }
    },
    {
      "cell_type": "code",
      "execution_count": null,
      "metadata": {
        "id": "crc3p3_QZaeT"
      },
      "outputs": [],
      "source": [
        "import numpy as np\n",
        "def perceptron_learn(X, y, epoche):\n",
        "  #Inicializar los pesos a 0\n",
        "  w = [0.0 for i in range(len(X[0]))]\n",
        "  b = 0.0\n",
        "\n",
        "  #Entrenamos al modelo\n",
        "  for epoch in range(epoche):\n",
        "    for i in range(len(X)):\n",
        "      #calculamos la salida del algoritmo\n",
        "      yhat = predict(X[i], w, b)\n",
        "\n",
        "      #actualizamos los pesos y sesgo\n",
        "      if yhat != y[i]:\n",
        "        w = update_weights(w, X[i], y[i], yhat)\n",
        "        b = update_bias(b, y[i], yhat)\n",
        "  \n",
        "  #devolvemos los pesos y sesgos como resultado final\n",
        "  return w, b\n",
        "\n",
        "def predict(X, w, b):\n",
        "  #calculamos salida del algoritmo perceptron\n",
        "  yhat = b\n",
        "  for i in range(len(X)):\n",
        "    yhat += X[i] * w[i]\n",
        "  #return 1 if yhat>=0 else -1\n",
        "  return np.sign(yhat)\n",
        "\n",
        "def update_weights(w, X, y, yhat, learning_rate=0.1):\n",
        "  #actualizamos los pesos\n",
        "  for i in range(len(w)):\n",
        "    w[i] = w[i] + learning_rate * (y - yhat) * X[i]\n",
        "  return w\n",
        "\n",
        "def update_bias(b, y, yhat, learning_rate=0.1):\n",
        "  #actualizamos el sesgo\n",
        "  b = b + learning_rate * (y - yhat)\n",
        "  return b"
      ]
    },
    {
      "cell_type": "markdown",
      "source": [
        "**2.- Desarrolla un programa principal que haga uso de estas dos funciones, y que las aplique sobre el siguiente conjunto de datos**"
      ],
      "metadata": {
        "id": "-kdAOZJ5ekuY"
      }
    },
    {
      "cell_type": "code",
      "source": [
        "from sklearn.model_selection import train_test_split\n",
        "import pandas as pd\n",
        "import matplotlib.pyplot as plt\n",
        "from matplotlib import style\n",
        "from statistics import mean\n",
        "import numpy as np\n",
        "\n",
        "def plot_decision_boundary(x1, w,b):\n",
        " \n",
        "    x_min, x_max = x1.min() - 1, x1.max() + 1\n",
        "    if w[1] != 0:\n",
        "      weights = -w[0] / w[1]\n",
        "      line_points = np.linspace(x_min, x_max)\n",
        "      plt.plot(line_points, weights * line_points - (b / w[1]))\n",
        "\n",
        "\n",
        "def plot_decision_boundary_alt(X, y, figsize=(8, 5), cmap='Paired'):\n",
        "    # Set figure size\n",
        "    fig, ax = plt.subplots(1, 1, figsize=figsize)\n",
        "\n",
        "    # Plot data points\n",
        "    colors = ['r' if label == 0 else 'b' for label in y]\n",
        "    ax.scatter(X[:, 0], X[:, 1], c=colors, cmap=cmap)\n",
        "\n",
        "    # Set axis limits\n",
        "    ax.set_xlim([np.min(X[:, 0]), np.max(X[:, 0])])\n",
        "    ax.set_ylim([np.min(X[:, 1]), np.max(X[:, 1])])\n",
        "\n",
        "    # Create a meshgrid of points to draw the decision boundary\n",
        "    xx, yy = np.meshgrid(np.linspace(ax.get_xlim()[0], ax.get_xlim()[1], 100),\n",
        "                         np.linspace(ax.get_ylim()[0], ax.get_ylim()[1], 100))\n",
        "    xy_mesh = np.column_stack((xx.flatten(), yy.flatten()))\n",
        "\n",
        "    # Predict the class for each meshgrid point and reshape the output\n",
        "    Z = predict(xy_mesh, w, b)\n",
        "    Z = Z.reshape(xx.shape)\n",
        "\n",
        "    # Plot the decision boundary\n",
        "    ax.contourf(xx, yy, Z, cmap=cmap, alpha=0.2)\n",
        "\n",
        "    # Add axis labels and title\n",
        "    ax.set_xlabel('X1')\n",
        "    ax.set_ylabel('X2')\n",
        "    ax.set_title('Decision Boundary')\n",
        "\n",
        "    # Show the plot\n",
        "    plt.show()\n",
        "\n",
        "X = np.array([[1, 0], [0, 2], [1, 1], [1, 2], [1, 3], [2, 2], [2, 3], [3, 2]])\n",
        "y = np.array([0, 0, 0, 0, 1, 1, 1, 1])"
      ],
      "metadata": {
        "id": "TUEctNoG11Vy"
      },
      "execution_count": 113,
      "outputs": []
    },
    {
      "cell_type": "code",
      "source": [
        "w,b = perceptron_learn(X, y, 1000)\n",
        "\n",
        "color = ['red' if value == 1 else 'blue' for value in y]\n",
        "\n",
        "\n",
        "plt.scatter(X[:, 0], X[:, 1], label='Data', marker='o', color=color)\n",
        "plot_decision_boundary(X,w,b)\n",
        "#plt.plot(X[0],y,label='Predicción',color='black',linewidth=2)\n",
        "plt.xlabel('X1')\n",
        "plt.ylabel('X2')\n",
        "plt.title('Regresión con Perceptron para X1, X2')\n",
        "plt.legend()\n",
        "plt.show()"
      ],
      "metadata": {
        "colab": {
          "base_uri": "https://localhost:8080/",
          "height": 524
        },
        "id": "eTTeQD3dmyA5",
        "outputId": "9d3fb5d3-f2ca-4230-d8a6-9922f6e4c425"
      },
      "execution_count": 114,
      "outputs": [
        {
          "output_type": "display_data",
          "data": {
            "text/plain": [
              "<Figure size 800x550 with 1 Axes>"
            ],
            "image/png": "[encoded data removed]"
          },
          "metadata": {}
        }
      ]
    },
    {
      "cell_type": "markdown",
      "source": [
        "**3.- Codifica ahora una función que aplique el algoritmo de clasificación de regresión logística, siguiendo también las directrices vistas en clase, y aplícalo al mismo conjunto de datos (umbral 0.5 para clasificación).**"
      ],
      "metadata": {
        "id": "0lf0FCU1eu7-"
      }
    },
    {
      "cell_type": "code",
      "source": [
        "import numpy as np\n",
        "from sklearn.linear_model import LogisticRegression\n",
        "import matplotlib.pyplot as plt\n",
        "\n",
        "# Cargar los datos de entrenamiento y prueba desde archivos o de cualquier otra fuente\n",
        "X = np.array([[1, 0], [0, 2], [1, 1], [1, 2], [1, 3], [2, 2], [2, 3], [3, 2]])\n",
        "y = np.array([0, 0, 0, 0, 1, 1, 1, 1])\n",
        "# Crear una instancia del modelo\n",
        "modelo = LogisticRegression()\n",
        "\n",
        "modelo.fit(X, y)\n",
        "\n",
        "# Realizar predicciones en el conjunto de prueba\n",
        "y_prediccion = modelo.predict(X)\n",
        "\n",
        "coeficientes = modelo.coef_.ravel()\n",
        "interseccion = modelo.intercept_\n",
        "\n",
        "# Calcular la línea de separación\n",
        "boundary_line = -(interseccion + coeficientes[0] * X[:, 0]) / coeficientes[1]\n",
        "\n",
        "# Graficar los puntos de datos y la línea de separación\n",
        "\n",
        "plt.figure(figsize=(8, 6))\n",
        "plt.scatter(X[:, 0], X[:, 1], c=y, cmap='bwr', alpha=0.5)\n",
        "plt.plot(X[:, 0], boundary_line, color='black')\n",
        "plt.xlabel(' X1')\n",
        "plt.ylabel(' X2')\n",
        "plt.title('Clasificación con regresión logística')\n",
        "plt.show()"
      ],
      "metadata": {
        "colab": {
          "base_uri": "https://localhost:8080/",
          "height": 562
        },
        "id": "g3ZUZvxgMosp",
        "outputId": "77c8c61a-9077-4f22-b95b-db405665fb26"
      },
      "execution_count": 112,
      "outputs": [
        {
          "output_type": "display_data",
          "data": {
            "text/plain": [
              "<Figure size 800x600 with 1 Axes>"
            ],
            "image/png": "[encoded data removed]"
          },
          "metadata": {}
        }
      ]
    },
    {
      "cell_type": "markdown",
      "source": [
        "**4.- Construye un conjunto de funciones que reciban dos vectores (x, y) y que construyan la matriz de confusión para este conjunto de resultados. Construye ahora un conjunto de funciones que reciben esta matriz de confusión (en el formato que hayas definido) y calculen las métricas de calidad que hemos estudiado en clase: exactitud, recall, precisión, F1 y Fb, selectividad y especificidad.**"
      ],
      "metadata": {
        "id": "n4nE_SVhe25e"
      }
    },
    {
      "cell_type": "code",
      "source": [
        "def confusion_matrix(x, y):\n",
        "    \"\"\" x: representan los valores verdaderos.\n",
        "        y: representan las predicciones. \"\"\"\n",
        "        \n",
        "    tp = 0  # Verdaderos positivos\n",
        "    fn = 0  # Falsos negativos\n",
        "    fp = 0  # Falsos positivos\n",
        "    tn = 0  # Verdaderos negativos\n",
        "\n",
        "    for i in range(len(x)):\n",
        "        if x[i] == 1 and y[i] == 1:\n",
        "            tp += 1\n",
        "        elif x[i] == 1 and y[i] == 0:\n",
        "            fn += 1\n",
        "        elif x[i] == 0 and y[i] == 1:\n",
        "            fp += 1\n",
        "        else:\n",
        "            tn += 1\n",
        "\n",
        "    return [[tp, fn], [fp, tn]]\n"
      ],
      "metadata": {
        "id": "mkNYIGA07akx"
      },
      "execution_count": null,
      "outputs": []
    },
    {
      "cell_type": "code",
      "source": [
        "def exactitud(matriz_confusion):\n",
        "\n",
        "    tp = matriz_confusion[0][0]\n",
        "    fn = matriz_confusion[0][1]\n",
        "    fp = matriz_confusion[1][0]\n",
        "    tn = matriz_confusion[1][1]\n",
        "\n",
        "    return (tp + tn) / (tp + fn + fp + tn)\n",
        "\n",
        "def recall(matriz_confusion):\n",
        "\n",
        "    tp = matriz_confusion[0][0]\n",
        "    fn = matriz_confusion[0][1]\n",
        "\n",
        "    return tp / (tp + fn)\n",
        "\n",
        "\n",
        "def precision(matriz_confusion):\n",
        "\n",
        "    tp = matriz_confusion[0][0]\n",
        "    fp = matriz_confusion[1][0]\n",
        "\n",
        "    return tp / (tp + fp)\n",
        "\n",
        "def f1(matriz_confusion):\n",
        "\n",
        "    p = precision(matriz_confusion)\n",
        "    r = recall(matriz_confusion)\n",
        "\n",
        "    return 2 * (p * r) / (p + r)\n",
        "\n",
        "def f_beta(matriz_confusion, beta):\n",
        "\n",
        "    p = precision(matriz_confusion)\n",
        "    r = recall(matriz_confusion)\n",
        "\n",
        "    return ((1 + beta) ** 2) * (p * r) / (((beta ** 2) * p) + r)\n",
        "\n",
        "def especifidad(matriz_confusion):\n",
        "\n",
        "    fn = matriz_confusion[0][1]\n",
        "    tn = matriz_confusion[1][1]\n",
        "\n",
        "    return tn / (fn + tn)\n",
        "\n",
        "def sensibilidad(matriz_confusion):\n",
        "\n",
        "    fn = matriz_confusion[0][1]\n",
        "    tp = matriz_confusion[0][0]\n",
        "\n",
        "    return tp / (fn + tp)"
      ],
      "metadata": {
        "id": "rwJWM9hIJc_e"
      },
      "execution_count": null,
      "outputs": []
    },
    {
      "cell_type": "markdown",
      "source": [
        "**5.- Con las funciones desarrolladas en el apartado 4, obtén los resultados de calidad de los clasificadores desarrollados (perceptrón y logística).**"
      ],
      "metadata": {
        "id": "nRoug-RZfCJe"
      }
    },
    {
      "cell_type": "markdown",
      "source": [
        "**6.- A continuación, vamos a trabajar con un ejemplo de análisis de sentimientos real. Se trata de determinar si la evaluación que se hace de una película es positiva o negativa.**\n",
        "Los datos se tomarán de un conjunto de 50.000 revisiones, tomadas de la base de datos IMDB3. Para construir el clasificador, no utilizarás tu propia implementación, sino que utilizarás la que está disponible en Turi Create. "
      ],
      "metadata": {
        "id": "q2WwvEgifPuq"
      }
    },
    {
      "cell_type": "code",
      "source": [
        "import turicreate as tc\n",
        "\n",
        "data = tc.SFrame.read_csv('reviews.csv')\n",
        "\n",
        "train_data, test_data = data.random_split(0.8)\n",
        "\n",
        "model = tc.text_classifier.create(train_data, 'sentiment', features=['review'], max_iterations=10)\n",
        "\n",
        "evaluacion = model.evaluate(test_data)\n",
        "\n",
        "nueva_revisiom = tc.SArray(['Esta pelicula es increiblemente buena'])"
      ],
      "metadata": {
        "id": "Xeog4redlYI-",
        "colab": {
          "base_uri": "https://localhost:8080/",
          "height": 374
        },
        "outputId": "8dbf69d0-8359-4a29-907e-3a8ec54de10d"
      },
      "execution_count": null,
      "outputs": [
        {
          "output_type": "error",
          "ename": "ModuleNotFoundError",
          "evalue": "ignored",
          "traceback": [
            "\u001b[0;31m---------------------------------------------------------------------------\u001b[0m",
            "\u001b[0;31mModuleNotFoundError\u001b[0m                       Traceback (most recent call last)",
            "\u001b[0;32m<ipython-input-1-2c4d5e484339>\u001b[0m in \u001b[0;36m<cell line: 1>\u001b[0;34m()\u001b[0m\n\u001b[0;32m----> 1\u001b[0;31m \u001b[0;32mimport\u001b[0m \u001b[0mturicreate\u001b[0m \u001b[0;32mas\u001b[0m \u001b[0mtc\u001b[0m\u001b[0;34m\u001b[0m\u001b[0;34m\u001b[0m\u001b[0m\n\u001b[0m\u001b[1;32m      2\u001b[0m \u001b[0;34m\u001b[0m\u001b[0m\n\u001b[1;32m      3\u001b[0m \u001b[0mdata\u001b[0m \u001b[0;34m=\u001b[0m \u001b[0mtc\u001b[0m\u001b[0;34m.\u001b[0m\u001b[0mSFrame\u001b[0m\u001b[0;34m.\u001b[0m\u001b[0mread_csv\u001b[0m\u001b[0;34m(\u001b[0m\u001b[0;34m'reviews.csv'\u001b[0m\u001b[0;34m)\u001b[0m\u001b[0;34m\u001b[0m\u001b[0;34m\u001b[0m\u001b[0m\n\u001b[1;32m      4\u001b[0m \u001b[0;34m\u001b[0m\u001b[0m\n\u001b[1;32m      5\u001b[0m \u001b[0mtrain_data\u001b[0m\u001b[0;34m,\u001b[0m \u001b[0mtest_data\u001b[0m \u001b[0;34m=\u001b[0m \u001b[0mdata\u001b[0m\u001b[0;34m.\u001b[0m\u001b[0mrandom_split\u001b[0m\u001b[0;34m(\u001b[0m\u001b[0;36m0.8\u001b[0m\u001b[0;34m)\u001b[0m\u001b[0;34m\u001b[0m\u001b[0;34m\u001b[0m\u001b[0m\n",
            "\u001b[0;31mModuleNotFoundError\u001b[0m: No module named 'turicreate'",
            "",
            "\u001b[0;31m---------------------------------------------------------------------------\u001b[0;32m\nNOTE: If your import is failing due to a missing package, you can\nmanually install dependencies using either !pip or !apt.\n\nTo view examples of installing some common dependencies, click the\n\"Open Examples\" button below.\n\u001b[0;31m---------------------------------------------------------------------------\u001b[0m\n"
          ],
          "errorDetails": {
            "actions": [
              {
                "action": "open_url",
                "actionText": "Open Examples",
                "url": "/notebooks/snippets/importing_libraries.ipynb"
              }
            ]
          }
        }
      ]
    },
    {
      "cell_type": "markdown",
      "source": [],
      "metadata": {
        "id": "V6g6jqOJ7vSb"
      }
    },
    {
      "cell_type": "markdown",
      "source": [
        "7. A continuación, evaluarás el modelo que has obtenido en el apartado 6. Puedes\n",
        "consultar la documentación de la función model para ver cómo hacerlo con Turi Create,\n",
        "aunque puedes desarrollar tu propio código aplicando el modelo que has obtenido en 6\n",
        "sobre el conjunto de datos. Una vez obtenidas todas las predicciones, puedes obtener\n",
        "la matriz de confusión y las métricas que has desarrollado en el apartado 4.\n"
      ],
      "metadata": {
        "id": "VxYdeE2Mnyot"
      }
    },
    {
      "cell_type": "code",
      "source": [],
      "metadata": {
        "id": "R6WM_1o-7ykn"
      },
      "execution_count": null,
      "outputs": []
    },
    {
      "cell_type": "code",
      "source": [
        "import turicreate as tc\n",
        "\n",
        "\n",
        "data = tc.SFrame.read_csv('reviews.csv')\n",
        "\n",
        "train_data, test_data = data.random_split(0.8)\n",
        "\n",
        "model = tc.text_classifier.create(train_data, 'sentiment', features=['review'], max_iterations=10)\n",
        "\n",
        "evaluacion = model.evaluate(test_data)\n",
        "\n",
        "nueva_revisiom = tc.SArray(['Esta pelicula es increiblemente buena'])\n",
        "\n",
        "evaluacion = model.evaluate(test_data)\n",
        "print(evaluacion)"
      ],
      "metadata": {
        "colab": {
          "base_uri": "https://localhost:8080/",
          "height": 373
        },
        "id": "CECm2ozOoWoZ",
        "outputId": "b1ce236e-6d68-412e-d8a4-e13318c9f0b8"
      },
      "execution_count": null,
      "outputs": [
        {
          "output_type": "error",
          "ename": "ModuleNotFoundError",
          "evalue": "ignored",
          "traceback": [
            "\u001b[0;31m---------------------------------------------------------------------------\u001b[0m",
            "\u001b[0;31mModuleNotFoundError\u001b[0m                       Traceback (most recent call last)",
            "\u001b[0;32m<ipython-input-6-e8d5f649aa14>\u001b[0m in \u001b[0;36m<cell line: 1>\u001b[0;34m()\u001b[0m\n\u001b[0;32m----> 1\u001b[0;31m \u001b[0;32mimport\u001b[0m \u001b[0mturicreate\u001b[0m \u001b[0;32mas\u001b[0m \u001b[0mtc\u001b[0m\u001b[0;34m\u001b[0m\u001b[0;34m\u001b[0m\u001b[0m\n\u001b[0m\u001b[1;32m      2\u001b[0m \u001b[0;34m\u001b[0m\u001b[0m\n\u001b[1;32m      3\u001b[0m \u001b[0;34m\u001b[0m\u001b[0m\n\u001b[1;32m      4\u001b[0m \u001b[0mdata\u001b[0m \u001b[0;34m=\u001b[0m \u001b[0mtc\u001b[0m\u001b[0;34m.\u001b[0m\u001b[0mSFrame\u001b[0m\u001b[0;34m.\u001b[0m\u001b[0mread_csv\u001b[0m\u001b[0;34m(\u001b[0m\u001b[0;34m'reviews.csv'\u001b[0m\u001b[0;34m)\u001b[0m\u001b[0;34m\u001b[0m\u001b[0;34m\u001b[0m\u001b[0m\n\u001b[1;32m      5\u001b[0m \u001b[0;34m\u001b[0m\u001b[0m\n",
            "\u001b[0;31mModuleNotFoundError\u001b[0m: No module named 'turicreate'",
            "",
            "\u001b[0;31m---------------------------------------------------------------------------\u001b[0;32m\nNOTE: If your import is failing due to a missing package, you can\nmanually install dependencies using either !pip or !apt.\n\nTo view examples of installing some common dependencies, click the\n\"Open Examples\" button below.\n\u001b[0;31m---------------------------------------------------------------------------\u001b[0m\n"
          ],
          "errorDetails": {
            "actions": [
              {
                "action": "open_url",
                "actionText": "Open Examples",
                "url": "/notebooks/snippets/importing_libraries.ipynb"
              }
            ]
          }
        }
      ]
    },
    {
      "cell_type": "markdown",
      "source": [],
      "metadata": {
        "id": "PgKtzXKt71RA"
      }
    },
    {
      "cell_type": "markdown",
      "source": [
        "8. Ahora vas a obtener la curva ROC para el modelo desarrollado en el apartado 6.\n",
        "Recuerda que has de ir modificando el umbral de clasificación y, en cada caso, obtener\n",
        "las predicciones, la matriz de confusión, la especificidad y la sensibilidad. Dibuja la\n",
        "gráfica con la curva. "
      ],
      "metadata": {
        "id": "n5Zw9TNJn4zy"
      }
    },
    {
      "cell_type": "code",
      "source": [],
      "metadata": {
        "id": "7Is57jAi73sk"
      },
      "execution_count": null,
      "outputs": []
    },
    {
      "cell_type": "code",
      "source": [
        "import turicreate as tc\n",
        "\n",
        "data = tc.SFrame.read_csv('reviews.csv')\n",
        "\n",
        "train_data, test_data = data.random_split(0.8)\n",
        "\n",
        "model = tc.text_classifier.create(train_data, 'sentiment', features=['review'], max_iterations=10)\n",
        "\n",
        "evaluacion = model.evaluate(test_data)\n",
        "\n",
        "nueva_revisiom = tc.SArray(['Esta pelicula es increiblemente buena'])\n",
        "\n",
        "roc= model.evaluate_roc(test_data)\n",
        "roc.show()"
      ],
      "metadata": {
        "colab": {
          "base_uri": "https://localhost:8080/",
          "height": 373
        },
        "id": "9CUoXneLpV-E",
        "outputId": "7e797bfc-34b3-4048-911f-af89816e1fd6"
      },
      "execution_count": null,
      "outputs": [
        {
          "output_type": "error",
          "ename": "ModuleNotFoundError",
          "evalue": "ignored",
          "traceback": [
            "\u001b[0;31m---------------------------------------------------------------------------\u001b[0m",
            "\u001b[0;31mModuleNotFoundError\u001b[0m                       Traceback (most recent call last)",
            "\u001b[0;32m<ipython-input-32-8dd7322f5187>\u001b[0m in \u001b[0;36m<cell line: 1>\u001b[0;34m()\u001b[0m\n\u001b[0;32m----> 1\u001b[0;31m \u001b[0;32mimport\u001b[0m \u001b[0mturicreate\u001b[0m \u001b[0;32mas\u001b[0m \u001b[0mtc\u001b[0m\u001b[0;34m\u001b[0m\u001b[0;34m\u001b[0m\u001b[0m\n\u001b[0m\u001b[1;32m      2\u001b[0m \u001b[0;34m\u001b[0m\u001b[0m\n\u001b[1;32m      3\u001b[0m \u001b[0mdata\u001b[0m \u001b[0;34m=\u001b[0m \u001b[0mtc\u001b[0m\u001b[0;34m.\u001b[0m\u001b[0mSFrame\u001b[0m\u001b[0;34m.\u001b[0m\u001b[0mread_csv\u001b[0m\u001b[0;34m(\u001b[0m\u001b[0;34m'reviews.csv'\u001b[0m\u001b[0;34m)\u001b[0m\u001b[0;34m\u001b[0m\u001b[0;34m\u001b[0m\u001b[0m\n\u001b[1;32m      4\u001b[0m \u001b[0;34m\u001b[0m\u001b[0m\n\u001b[1;32m      5\u001b[0m \u001b[0mtrain_data\u001b[0m\u001b[0;34m,\u001b[0m \u001b[0mtest_data\u001b[0m \u001b[0;34m=\u001b[0m \u001b[0mdata\u001b[0m\u001b[0;34m.\u001b[0m\u001b[0mrandom_split\u001b[0m\u001b[0;34m(\u001b[0m\u001b[0;36m0.8\u001b[0m\u001b[0;34m)\u001b[0m\u001b[0;34m\u001b[0m\u001b[0;34m\u001b[0m\u001b[0m\n",
            "\u001b[0;31mModuleNotFoundError\u001b[0m: No module named 'turicreate'",
            "",
            "\u001b[0;31m---------------------------------------------------------------------------\u001b[0;32m\nNOTE: If your import is failing due to a missing package, you can\nmanually install dependencies using either !pip or !apt.\n\nTo view examples of installing some common dependencies, click the\n\"Open Examples\" button below.\n\u001b[0;31m---------------------------------------------------------------------------\u001b[0m\n"
          ],
          "errorDetails": {
            "actions": [
              {
                "action": "open_url",
                "actionText": "Open Examples",
                "url": "/notebooks/snippets/importing_libraries.ipynb"
              }
            ]
          }
        }
      ]
    },
    {
      "cell_type": "markdown",
      "source": [],
      "metadata": {
        "id": "swazU3cw758Q"
      }
    },
    {
      "cell_type": "markdown",
      "source": [
        "9. En esta práctica vamos a probar un modelo de red neuronal para llevar a cabo una\n",
        "tarea de reconocimiento de imágenes, a saber, el reconocimiento de dígitos a partir de\n",
        "imágenes caligráficas (dataset MNIST). El procedimiento a seguir se ha visto en la clase\n",
        "de teoría. Procederemos a realizar los siguientes pasos: (a) cargar el dataset, (b)\n",
        "redimensionarlo para que se ajuste a las entradas de la red y para que la salida sea\n",
        "categórica (c) Definir la arquitectura de red (784:120relu:64relu:10softmax) (d) compilar\n",
        "la red y entrenarla.\n",
        "Intenta jugar con algunos de los hiperparámetros de la red para intentar mejorar la\n",
        "predicción. Presentarás un informe de los modelos que has probado. Para llevar a cabo\n",
        "esta evaluación, puede ser interesante que particiones el dataset en training y test."
      ],
      "metadata": {
        "id": "flOSRm9On_My"
      }
    },
    {
      "cell_type": "code",
      "source": [],
      "metadata": {
        "id": "3jcBl_-p78fi"
      },
      "execution_count": null,
      "outputs": []
    },
    {
      "cell_type": "code",
      "source": [
        "import tensorflow as tf\n",
        "from tensorflow import keras\n",
        "\n",
        "#cargamos datos de entrenamiento y prueba\n",
        "(x_train, y_train), (x_test, y_test) = keras.datasets.mnist.load_data()\n",
        "\n",
        "#procesamos los datos\n",
        "x_train = x_train / 255.0\n",
        "x_test = x_test / 255.0\n",
        "\n",
        "y_train = keras.utils.to_categorical(y_train)\n",
        "y_test = keras.utils.to_categorical(y_test)\n",
        "\n",
        "#definimos modelo de red neuronal\n",
        "model= keras.Sequential([\n",
        "    keras.layers.Flatten(input_shape=(28, 28)),\n",
        "    keras.layers.Dense(128, activation= 'relu'),\n",
        "    keras.layers.Dense(10, activation= 'softmax')\n",
        "])\n",
        "\n",
        "\n",
        "#compilamos el modelo\n",
        "model.compile(optimizer='adam', loss='categorical_crossentropy', metrics=['accuracy'])\n",
        "\n",
        "#entrenamos el modeloç\n",
        "model.fit(x_train, y_train, epochs=5, validation_data=(x_test, y_test))\n",
        "\n",
        "#evaluamos el modelo con las pruebas\n",
        "test_loss, test_acc = model.evaluate(x_test, y_test)\n",
        "print('Precision en el conjunto de prueba:', test_acc)"
      ],
      "metadata": {
        "colab": {
          "base_uri": "https://localhost:8080/"
        },
        "id": "L9Asvzkuqqxv",
        "outputId": "112a613b-4466-4b2a-9bc6-a8193dd817e4"
      },
      "execution_count": null,
      "outputs": [
        {
          "output_type": "stream",
          "name": "stdout",
          "text": [
            "Epoch 1/5\n",
            "1875/1875 [==============================] - 8s 4ms/step - loss: 0.2602 - accuracy: 0.9255 - val_loss: 0.1394 - val_accuracy: 0.9570\n",
            "Epoch 2/5\n",
            "1875/1875 [==============================] - 8s 4ms/step - loss: 0.1153 - accuracy: 0.9654 - val_loss: 0.0979 - val_accuracy: 0.9697\n",
            "Epoch 3/5\n",
            "1875/1875 [==============================] - 7s 4ms/step - loss: 0.0800 - accuracy: 0.9752 - val_loss: 0.0842 - val_accuracy: 0.9737\n",
            "Epoch 4/5\n",
            "1875/1875 [==============================] - 8s 5ms/step - loss: 0.0598 - accuracy: 0.9820 - val_loss: 0.0839 - val_accuracy: 0.9745\n",
            "Epoch 5/5\n",
            "1875/1875 [==============================] - 8s 4ms/step - loss: 0.0460 - accuracy: 0.9856 - val_loss: 0.0793 - val_accuracy: 0.9758\n",
            "313/313 [==============================] - 1s 2ms/step - loss: 0.0793 - accuracy: 0.9758\n",
            "Precision en el conjunto de prueba: 0.9757999777793884\n"
          ]
        }
      ]
    },
    {
      "cell_type": "markdown",
      "source": [],
      "metadata": {
        "id": "vvnTrVLc7-lV"
      }
    },
    {
      "cell_type": "markdown",
      "source": [
        "10. Para terminar esta práctica, vamos a construir un modelo de red neuronal para llevar\n",
        "a cabo una tarea de regresión, la que vimos en la práctica anterior. Vamos a ensayar la\n",
        "siguiente arquitectura de partida para modelar el precio de las viviendas:\n",
        "\n",
        "• Una capa de entrada de tamaño 38 (el número de columnas del conjunto de datos)\n",
        "• Una capa oculta de tamaño 128 con una función de activación ReLU y un parámetro de\n",
        "dropout de 0,2\n",
        "• Una capa oculta de tamaño 64 con una función de activación ReLU y un parámetro de\n",
        "dropout de 0,2\n",
        "• Una capa de salida de tamaño 1 sin función de activación\n",
        "Para entrenar la red, hay que usar como función de pérdida el error cuadrático medio,\n",
        "y es recomendable usar el optimizador Adam.\n",
        "Intenta jugar con los hiperparámetros para obtener el modelo con menor error de\n",
        "prueba. Puedes hacer dos particiones (train/test) para valorar la calidad de tus\n",
        "diferentes configuraciones."
      ],
      "metadata": {
        "id": "cSWoLcsxoD8E"
      }
    },
    {
      "cell_type": "code",
      "source": [],
      "metadata": {
        "id": "-y1zDPxM8C6D"
      },
      "execution_count": null,
      "outputs": []
    },
    {
      "cell_type": "code",
      "source": [
        "import pandas as pd\n",
        "import numpy as np\n",
        "from sklearn.model_selection import train_test_split\n",
        "from keras.models import Sequential\n",
        "from keras.layers import Dense, Dropout\n",
        "from keras.optimizers import Adam\n",
        "\n",
        "#cargamos datos de los precios de viviendas\n",
        "data = pd.read_csv('housing_prices.csv')\n",
        "\n",
        "\n",
        "#dividimos datos en conjuntos de entrenamiento y prueba\n",
        "train_data, test_data = train_test_split(data, test_size=0.2)\n",
        "\n",
        "#procesamos los datos (separamos la variable objetivo de las demas)\n",
        "x_train = train_data.drop('SalePrice', axis=1).values\n",
        "y_train = train_data['SalePrice'].values\n",
        "\n",
        "x_test = test_data.drop('SalePrice', axis=1).values\n",
        "y_test = test_data['SalePrice'].values\n",
        "\n",
        "#definimos el modelo\n",
        "model = Sequential()\n",
        "model.add(Dense(128, activation='relu', input_shape=(38,)))\n",
        "model.add(Dropout(0.2))\n",
        "model.add(Dense(64, activation='relu'))\n",
        "model.add(Dropout(0.2))\n",
        "model.add(Dense(1))\n",
        "\n",
        "\n",
        "#compilamos el modelo (especificamos funcion de perdida, optimizador y metricas)\n",
        "model.compile(optimizer=Adam(lr=0.001), loss='mean_squeared_error', mtrics=['mae'])\n",
        "\n",
        "#entrenar el modelo\n",
        "history= model.fit(x_train, y_train, epochs=50, validation_data=(x_test, y_test))\n",
        "\n",
        "#evaluar el modeloç\n",
        "test_loss, test_mae = model.evaluate(x_test, y_test)\n",
        "print('Error de prueba:', test_loss)\n"
      ],
      "metadata": {
        "colab": {
          "base_uri": "https://localhost:8080/",
          "height": 415
        },
        "id": "U2n6FHaGuGkk",
        "outputId": "13bff39c-e3b9-4542-8775-a2e22d205fb9"
      },
      "execution_count": null,
      "outputs": [
        {
          "output_type": "error",
          "ename": "FileNotFoundError",
          "evalue": "ignored",
          "traceback": [
            "\u001b[0;31m---------------------------------------------------------------------------\u001b[0m",
            "\u001b[0;31mFileNotFoundError\u001b[0m                         Traceback (most recent call last)",
            "\u001b[0;32m<ipython-input-33-e5242edd7bca>\u001b[0m in \u001b[0;36m<cell line: 9>\u001b[0;34m()\u001b[0m\n\u001b[1;32m      7\u001b[0m \u001b[0;34m\u001b[0m\u001b[0m\n\u001b[1;32m      8\u001b[0m \u001b[0;31m#cargamos datos de los precios de viviendas\u001b[0m\u001b[0;34m\u001b[0m\u001b[0;34m\u001b[0m\u001b[0m\n\u001b[0;32m----> 9\u001b[0;31m \u001b[0mdata\u001b[0m \u001b[0;34m=\u001b[0m \u001b[0mpd\u001b[0m\u001b[0;34m.\u001b[0m\u001b[0mread_csv\u001b[0m\u001b[0;34m(\u001b[0m\u001b[0;34m'housing_prices.csv'\u001b[0m\u001b[0;34m)\u001b[0m\u001b[0;34m\u001b[0m\u001b[0;34m\u001b[0m\u001b[0m\n\u001b[0m\u001b[1;32m     10\u001b[0m \u001b[0;34m\u001b[0m\u001b[0m\n\u001b[1;32m     11\u001b[0m \u001b[0;34m\u001b[0m\u001b[0m\n",
            "\u001b[0;32m/usr/local/lib/python3.9/dist-packages/pandas/util/_decorators.py\u001b[0m in \u001b[0;36mwrapper\u001b[0;34m(*args, **kwargs)\u001b[0m\n\u001b[1;32m    209\u001b[0m                 \u001b[0;32melse\u001b[0m\u001b[0;34m:\u001b[0m\u001b[0;34m\u001b[0m\u001b[0;34m\u001b[0m\u001b[0m\n\u001b[1;32m    210\u001b[0m                     \u001b[0mkwargs\u001b[0m\u001b[0;34m[\u001b[0m\u001b[0mnew_arg_name\u001b[0m\u001b[0;34m]\u001b[0m \u001b[0;34m=\u001b[0m \u001b[0mnew_arg_value\u001b[0m\u001b[0;34m\u001b[0m\u001b[0;34m\u001b[0m\u001b[0m\n\u001b[0;32m--> 211\u001b[0;31m             \u001b[0;32mreturn\u001b[0m \u001b[0mfunc\u001b[0m\u001b[0;34m(\u001b[0m\u001b[0;34m*\u001b[0m\u001b[0margs\u001b[0m\u001b[0;34m,\u001b[0m \u001b[0;34m**\u001b[0m\u001b[0mkwargs\u001b[0m\u001b[0;34m)\u001b[0m\u001b[0;34m\u001b[0m\u001b[0;34m\u001b[0m\u001b[0m\n\u001b[0m\u001b[1;32m    212\u001b[0m \u001b[0;34m\u001b[0m\u001b[0m\n\u001b[1;32m    213\u001b[0m         \u001b[0;32mreturn\u001b[0m \u001b[0mcast\u001b[0m\u001b[0;34m(\u001b[0m\u001b[0mF\u001b[0m\u001b[0;34m,\u001b[0m \u001b[0mwrapper\u001b[0m\u001b[0;34m)\u001b[0m\u001b[0;34m\u001b[0m\u001b[0;34m\u001b[0m\u001b[0m\n",
            "\u001b[0;32m/usr/local/lib/python3.9/dist-packages/pandas/util/_decorators.py\u001b[0m in \u001b[0;36mwrapper\u001b[0;34m(*args, **kwargs)\u001b[0m\n\u001b[1;32m    329\u001b[0m                     \u001b[0mstacklevel\u001b[0m\u001b[0;34m=\u001b[0m\u001b[0mfind_stack_level\u001b[0m\u001b[0;34m(\u001b[0m\u001b[0;34m)\u001b[0m\u001b[0;34m,\u001b[0m\u001b[0;34m\u001b[0m\u001b[0;34m\u001b[0m\u001b[0m\n\u001b[1;32m    330\u001b[0m                 )\n\u001b[0;32m--> 331\u001b[0;31m             \u001b[0;32mreturn\u001b[0m \u001b[0mfunc\u001b[0m\u001b[0;34m(\u001b[0m\u001b[0;34m*\u001b[0m\u001b[0margs\u001b[0m\u001b[0;34m,\u001b[0m \u001b[0;34m**\u001b[0m\u001b[0mkwargs\u001b[0m\u001b[0;34m)\u001b[0m\u001b[0;34m\u001b[0m\u001b[0;34m\u001b[0m\u001b[0m\n\u001b[0m\u001b[1;32m    332\u001b[0m \u001b[0;34m\u001b[0m\u001b[0m\n\u001b[1;32m    333\u001b[0m         \u001b[0;31m# error: \"Callable[[VarArg(Any), KwArg(Any)], Any]\" has no\u001b[0m\u001b[0;34m\u001b[0m\u001b[0;34m\u001b[0m\u001b[0m\n",
            "\u001b[0;32m/usr/local/lib/python3.9/dist-packages/pandas/io/parsers/readers.py\u001b[0m in \u001b[0;36mread_csv\u001b[0;34m(filepath_or_buffer, sep, delimiter, header, names, index_col, usecols, squeeze, prefix, mangle_dupe_cols, dtype, engine, converters, true_values, false_values, skipinitialspace, skiprows, skipfooter, nrows, na_values, keep_default_na, na_filter, verbose, skip_blank_lines, parse_dates, infer_datetime_format, keep_date_col, date_parser, dayfirst, cache_dates, iterator, chunksize, compression, thousands, decimal, lineterminator, quotechar, quoting, doublequote, escapechar, comment, encoding, encoding_errors, dialect, error_bad_lines, warn_bad_lines, on_bad_lines, delim_whitespace, low_memory, memory_map, float_precision, storage_options)\u001b[0m\n\u001b[1;32m    948\u001b[0m     \u001b[0mkwds\u001b[0m\u001b[0;34m.\u001b[0m\u001b[0mupdate\u001b[0m\u001b[0;34m(\u001b[0m\u001b[0mkwds_defaults\u001b[0m\u001b[0;34m)\u001b[0m\u001b[0;34m\u001b[0m\u001b[0;34m\u001b[0m\u001b[0m\n\u001b[1;32m    949\u001b[0m \u001b[0;34m\u001b[0m\u001b[0m\n\u001b[0;32m--> 950\u001b[0;31m     \u001b[0;32mreturn\u001b[0m \u001b[0m_read\u001b[0m\u001b[0;34m(\u001b[0m\u001b[0mfilepath_or_buffer\u001b[0m\u001b[0;34m,\u001b[0m \u001b[0mkwds\u001b[0m\u001b[0;34m)\u001b[0m\u001b[0;34m\u001b[0m\u001b[0;34m\u001b[0m\u001b[0m\n\u001b[0m\u001b[1;32m    951\u001b[0m \u001b[0;34m\u001b[0m\u001b[0m\n\u001b[1;32m    952\u001b[0m \u001b[0;34m\u001b[0m\u001b[0m\n",
            "\u001b[0;32m/usr/local/lib/python3.9/dist-packages/pandas/io/parsers/readers.py\u001b[0m in \u001b[0;36m_read\u001b[0;34m(filepath_or_buffer, kwds)\u001b[0m\n\u001b[1;32m    603\u001b[0m \u001b[0;34m\u001b[0m\u001b[0m\n\u001b[1;32m    604\u001b[0m     \u001b[0;31m# Create the parser.\u001b[0m\u001b[0;34m\u001b[0m\u001b[0;34m\u001b[0m\u001b[0m\n\u001b[0;32m--> 605\u001b[0;31m     \u001b[0mparser\u001b[0m \u001b[0;34m=\u001b[0m \u001b[0mTextFileReader\u001b[0m\u001b[0;34m(\u001b[0m\u001b[0mfilepath_or_buffer\u001b[0m\u001b[0;34m,\u001b[0m \u001b[0;34m**\u001b[0m\u001b[0mkwds\u001b[0m\u001b[0;34m)\u001b[0m\u001b[0;34m\u001b[0m\u001b[0;34m\u001b[0m\u001b[0m\n\u001b[0m\u001b[1;32m    606\u001b[0m \u001b[0;34m\u001b[0m\u001b[0m\n\u001b[1;32m    607\u001b[0m     \u001b[0;32mif\u001b[0m \u001b[0mchunksize\u001b[0m \u001b[0;32mor\u001b[0m \u001b[0miterator\u001b[0m\u001b[0;34m:\u001b[0m\u001b[0;34m\u001b[0m\u001b[0;34m\u001b[0m\u001b[0m\n",
            "\u001b[0;32m/usr/local/lib/python3.9/dist-packages/pandas/io/parsers/readers.py\u001b[0m in \u001b[0;36m__init__\u001b[0;34m(self, f, engine, **kwds)\u001b[0m\n\u001b[1;32m   1440\u001b[0m \u001b[0;34m\u001b[0m\u001b[0m\n\u001b[1;32m   1441\u001b[0m         \u001b[0mself\u001b[0m\u001b[0;34m.\u001b[0m\u001b[0mhandles\u001b[0m\u001b[0;34m:\u001b[0m \u001b[0mIOHandles\u001b[0m \u001b[0;34m|\u001b[0m \u001b[0;32mNone\u001b[0m \u001b[0;34m=\u001b[0m \u001b[0;32mNone\u001b[0m\u001b[0;34m\u001b[0m\u001b[0;34m\u001b[0m\u001b[0m\n\u001b[0;32m-> 1442\u001b[0;31m         \u001b[0mself\u001b[0m\u001b[0;34m.\u001b[0m\u001b[0m_engine\u001b[0m \u001b[0;34m=\u001b[0m \u001b[0mself\u001b[0m\u001b[0;34m.\u001b[0m\u001b[0m_make_engine\u001b[0m\u001b[0;34m(\u001b[0m\u001b[0mf\u001b[0m\u001b[0;34m,\u001b[0m \u001b[0mself\u001b[0m\u001b[0;34m.\u001b[0m\u001b[0mengine\u001b[0m\u001b[0;34m)\u001b[0m\u001b[0;34m\u001b[0m\u001b[0;34m\u001b[0m\u001b[0m\n\u001b[0m\u001b[1;32m   1443\u001b[0m \u001b[0;34m\u001b[0m\u001b[0m\n\u001b[1;32m   1444\u001b[0m     \u001b[0;32mdef\u001b[0m \u001b[0mclose\u001b[0m\u001b[0;34m(\u001b[0m\u001b[0mself\u001b[0m\u001b[0;34m)\u001b[0m \u001b[0;34m->\u001b[0m \u001b[0;32mNone\u001b[0m\u001b[0;34m:\u001b[0m\u001b[0;34m\u001b[0m\u001b[0;34m\u001b[0m\u001b[0m\n",
            "\u001b[0;32m/usr/local/lib/python3.9/dist-packages/pandas/io/parsers/readers.py\u001b[0m in \u001b[0;36m_make_engine\u001b[0;34m(self, f, engine)\u001b[0m\n\u001b[1;32m   1733\u001b[0m                 \u001b[0;32mif\u001b[0m \u001b[0;34m\"b\"\u001b[0m \u001b[0;32mnot\u001b[0m \u001b[0;32min\u001b[0m \u001b[0mmode\u001b[0m\u001b[0;34m:\u001b[0m\u001b[0;34m\u001b[0m\u001b[0;34m\u001b[0m\u001b[0m\n\u001b[1;32m   1734\u001b[0m                     \u001b[0mmode\u001b[0m \u001b[0;34m+=\u001b[0m \u001b[0;34m\"b\"\u001b[0m\u001b[0;34m\u001b[0m\u001b[0;34m\u001b[0m\u001b[0m\n\u001b[0;32m-> 1735\u001b[0;31m             self.handles = get_handle(\n\u001b[0m\u001b[1;32m   1736\u001b[0m                 \u001b[0mf\u001b[0m\u001b[0;34m,\u001b[0m\u001b[0;34m\u001b[0m\u001b[0;34m\u001b[0m\u001b[0m\n\u001b[1;32m   1737\u001b[0m                 \u001b[0mmode\u001b[0m\u001b[0;34m,\u001b[0m\u001b[0;34m\u001b[0m\u001b[0;34m\u001b[0m\u001b[0m\n",
            "\u001b[0;32m/usr/local/lib/python3.9/dist-packages/pandas/io/common.py\u001b[0m in \u001b[0;36mget_handle\u001b[0;34m(path_or_buf, mode, encoding, compression, memory_map, is_text, errors, storage_options)\u001b[0m\n\u001b[1;32m    854\u001b[0m         \u001b[0;32mif\u001b[0m \u001b[0mioargs\u001b[0m\u001b[0;34m.\u001b[0m\u001b[0mencoding\u001b[0m \u001b[0;32mand\u001b[0m \u001b[0;34m\"b\"\u001b[0m \u001b[0;32mnot\u001b[0m \u001b[0;32min\u001b[0m \u001b[0mioargs\u001b[0m\u001b[0;34m.\u001b[0m\u001b[0mmode\u001b[0m\u001b[0;34m:\u001b[0m\u001b[0;34m\u001b[0m\u001b[0;34m\u001b[0m\u001b[0m\n\u001b[1;32m    855\u001b[0m             \u001b[0;31m# Encoding\u001b[0m\u001b[0;34m\u001b[0m\u001b[0;34m\u001b[0m\u001b[0m\n\u001b[0;32m--> 856\u001b[0;31m             handle = open(\n\u001b[0m\u001b[1;32m    857\u001b[0m                 \u001b[0mhandle\u001b[0m\u001b[0;34m,\u001b[0m\u001b[0;34m\u001b[0m\u001b[0;34m\u001b[0m\u001b[0m\n\u001b[1;32m    858\u001b[0m                 \u001b[0mioargs\u001b[0m\u001b[0;34m.\u001b[0m\u001b[0mmode\u001b[0m\u001b[0;34m,\u001b[0m\u001b[0;34m\u001b[0m\u001b[0;34m\u001b[0m\u001b[0m\n",
            "\u001b[0;31mFileNotFoundError\u001b[0m: [Errno 2] No such file or directory: 'housing_prices.csv'"
          ]
        }
      ]
    },
    {
      "cell_type": "markdown",
      "source": [],
      "metadata": {
        "id": "HjYvrVgPfKsC"
      }
    }
  ]
}